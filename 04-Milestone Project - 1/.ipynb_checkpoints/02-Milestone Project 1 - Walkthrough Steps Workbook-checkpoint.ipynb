{
 "cells": [
  {
   "cell_type": "markdown",
   "metadata": {},
   "source": [
    "# Milestone Project 1: Walkthrough Steps Workbook\n",
    "\n",
    "Below is a set of steps for you to follow to try to create the Tic Tac Toe Milestone Project game!"
   ]
  },
  {
   "cell_type": "markdown",
   "metadata": {},
   "source": [
    "#### Some suggested tools before you get started:\n",
    "To take input from a user:\n",
    "\n",
    "    player1 = input(\"Please pick a marker 'X' or 'O'\")\n",
    "    \n",
    "Note that input() takes in a string. If you need an integer value, use\n",
    "\n",
    "    position = int(input('Please enter a number'))\n",
    "    \n",
    "<br>To clear the screen between moves:\n",
    "\n",
    "    from IPython.display import clear_output\n",
    "    clear_output()\n",
    "    \n",
    "Note that clear_output() will only work in jupyter. To clear the screen in other IDEs, consider:\n",
    "\n",
    "    print('\\n'*100)\n",
    "    \n",
    "This scrolls the previous board up out of view. Now on to the program!"
   ]
  },
  {
   "cell_type": "markdown",
   "metadata": {},
   "source": [
    "**Step 1: Write a function that can print out a board. Set up your board as a list, where each index 1-9 corresponds with a number on a number pad, so you get a 3 by 3 board representation.**"
   ]
  },
  {
   "cell_type": "code",
   "execution_count": 1,
   "metadata": {},
   "outputs": [],
   "source": [
    "from IPython.display import clear_output\n",
    "\n",
    "def display_board(board):\n",
    "    print('+-----------+')\n",
    "    print(f'| {test_board[1]} | {test_board[2]} | {test_board[3]} |')\n",
    "    print(f'| {test_board[4]} | {test_board[5]} | {test_board[6]} |')\n",
    "    print(f'| {test_board[7]} | {test_board[8]} | {test_board[9]} |')\n",
    "    print('+-----------+')"
   ]
  },
  {
   "cell_type": "markdown",
   "metadata": {},
   "source": [
    "**TEST Step 1:** run your function on a test version of the board list, and make adjustments as necessary"
   ]
  },
  {
   "cell_type": "code",
   "execution_count": 2,
   "metadata": {},
   "outputs": [
    {
     "name": "stdout",
     "output_type": "stream",
     "text": [
      "+-----------+\n",
      "| 1 | 2 | 3 |\n",
      "| 4 | 5 | 6 |\n",
      "| 7 | 8 | 9 |\n",
      "+-----------+\n"
     ]
    }
   ],
   "source": [
    "test_board = [0,1,2,3,4,5,6,7,8,9]\n",
    "display_board(test_board)"
   ]
  },
  {
   "cell_type": "markdown",
   "metadata": {},
   "source": [
    "**Step 2: Write a function that can take in a player input and assign their marker as 'X' or 'O'. Think about using *while* loops to continually ask until you get a correct answer.**"
   ]
  },
  {
   "cell_type": "code",
   "execution_count": 3,
   "metadata": {},
   "outputs": [],
   "source": [
    "def player_input():\n",
    "    return int(input(\"Enter the position to mark!: \"))\n",
    "    "
   ]
  },
  {
   "cell_type": "markdown",
   "metadata": {},
   "source": [
    "**TEST Step 2:** run the function to make sure it returns the desired output"
   ]
  },
  {
   "cell_type": "code",
   "execution_count": 4,
   "metadata": {},
   "outputs": [
    {
     "name": "stdout",
     "output_type": "stream",
     "text": [
      "Enter the position to mark!: 8\n"
     ]
    }
   ],
   "source": [
    "text_board = player_input()"
   ]
  },
  {
   "cell_type": "markdown",
   "metadata": {},
   "source": [
    "**Step 3: Write a function that takes in the board list object, a marker ('X' or 'O'), and a desired position (number 1-9) and assigns it to the board.**"
   ]
  },
  {
   "cell_type": "code",
   "execution_count": 5,
   "metadata": {},
   "outputs": [],
   "source": [
    "def place_marker(board, marker, position):\n",
    "    board[position] = marker\n",
    "    #return board"
   ]
  },
  {
   "cell_type": "markdown",
   "metadata": {},
   "source": [
    "**TEST Step 3:** run the place marker function using test parameters and display the modified board"
   ]
  },
  {
   "cell_type": "code",
   "execution_count": 6,
   "metadata": {},
   "outputs": [
    {
     "name": "stdout",
     "output_type": "stream",
     "text": [
      "+-----------+\n",
      "| 1 | 2 | 3 |\n",
      "| 4 | 5 | 6 |\n",
      "| 7 | $ | 9 |\n",
      "+-----------+\n"
     ]
    }
   ],
   "source": [
    "place_marker(test_board,'$',8)\n",
    "display_board(test_board)"
   ]
  },
  {
   "cell_type": "markdown",
   "metadata": {},
   "source": [
    "**Step 4: Write a function that takes in a board and a mark (X or O) and then checks to see if that mark has won. **"
   ]
  },
  {
   "cell_type": "code",
   "execution_count": 7,
   "metadata": {},
   "outputs": [],
   "source": [
    "def win_check(board, mark):\n",
    "    if board[1] == board [2] == board[3] == mark:\n",
    "        return True\n",
    "    elif board[5] == board [5] == board[6] == mark:\n",
    "        return True\n",
    "    elif board[7] == board [8] == board[9] == mark:\n",
    "        return True\n",
    "    elif board[1] == board [4] == board[7] == mark:\n",
    "        return True\n",
    "    elif board[2] == board [5] == board[8] == mark:\n",
    "        return True\n",
    "    elif board[3] == board [6] == board[9] == mark:\n",
    "        return True\n",
    "    elif board[1] == board [5] == board[9] == mark:\n",
    "        return True\n",
    "    elif board[3] == board [5] == board[7] == mark:\n",
    "        return True\n",
    "    else:\n",
    "        return False"
   ]
  },
  {
   "cell_type": "markdown",
   "metadata": {},
   "source": [
    "**TEST Step 4:** run the win_check function against our test_board - it should return True"
   ]
  },
  {
   "cell_type": "code",
   "execution_count": 8,
   "metadata": {},
   "outputs": [
    {
     "data": {
      "text/plain": [
       "False"
      ]
     },
     "execution_count": 8,
     "metadata": {},
     "output_type": "execute_result"
    }
   ],
   "source": [
    "win_check(test_board,'X')"
   ]
  },
  {
   "cell_type": "markdown",
   "metadata": {},
   "source": [
    "**Step 5: Write a function that uses the random module to randomly decide which player goes first. You may want to lookup random.randint() Return a string of which player went first.**"
   ]
  },
  {
   "cell_type": "code",
   "execution_count": 9,
   "metadata": {},
   "outputs": [],
   "source": [
    "import random\n",
    "\n",
    "def choose_first():\n",
    "    player = random.randint(1,2)\n",
    "    print(f\"Game will be started by Player {player}\")\n",
    "    return player"
   ]
  },
  {
   "cell_type": "markdown",
   "metadata": {},
   "source": [
    "**Step 6: Write a function that returns a boolean indicating whether a space on the board is freely available.**"
   ]
  },
  {
   "cell_type": "code",
   "execution_count": 10,
   "metadata": {},
   "outputs": [],
   "source": [
    "def space_check(board, position):\n",
    "    if board[position] == 'X' or board[position] == 'O':\n",
    "        return False\n",
    "    else:\n",
    "        return True"
   ]
  },
  {
   "cell_type": "markdown",
   "metadata": {},
   "source": [
    "**Step 7: Write a function that checks if the board is full and returns a boolean value. True if full, False otherwise.**"
   ]
  },
  {
   "cell_type": "code",
   "execution_count": 11,
   "metadata": {},
   "outputs": [],
   "source": [
    "def full_board_check(board):\n",
    "    for each in board:\n",
    "        if not (each == 'X' or each == 'O'):\n",
    "            return False\n",
    "    return True"
   ]
  },
  {
   "cell_type": "markdown",
   "metadata": {},
   "source": [
    "**Step 8: Write a function that asks for a player's next position (as a number 1-9) and then uses the function from step 6 to check if it's a free position. If it is, then return the position for later use.**"
   ]
  },
  {
   "cell_type": "code",
   "execution_count": 12,
   "metadata": {},
   "outputs": [],
   "source": [
    "def player_choice(board, mark):\n",
    "    position = player_input()\n",
    "    if space_check(board, position):\n",
    "        place_marker(board, mark, position)\n",
    "        return True\n",
    "    else:\n",
    "        print(\"Position Marked already!!\")\n",
    "        player_choice(board, mark)"
   ]
  },
  {
   "cell_type": "markdown",
   "metadata": {},
   "source": [
    "**Step 9: Write a function that asks the player if they want to play again and returns a boolean True if they do want to play again.**"
   ]
  },
  {
   "cell_type": "code",
   "execution_count": 13,
   "metadata": {},
   "outputs": [
    {
     "name": "stdout",
     "output_type": "stream",
     "text": [
      "+-----------+\n",
      "| 1 | 2 | 3 |\n",
      "| 4 | 5 | 6 |\n",
      "| 7 | $ | 9 |\n",
      "+-----------+\n"
     ]
    }
   ],
   "source": [
    "display_board(test_board)\n",
    "#def replay():\n",
    "    \n",
    " #   pass"
   ]
  },
  {
   "cell_type": "markdown",
   "metadata": {
    "collapsed": true
   },
   "source": [
    "**Step 10: Here comes the hard part! Use while loops and the functions you've made to run the game!**"
   ]
  },
  {
   "cell_type": "code",
   "execution_count": 15,
   "metadata": {},
   "outputs": [
    {
     "name": "stdout",
     "output_type": "stream",
     "text": [
      "Welcome to Tic Tac Toe!\n",
      "Player 1('X') name: sam\n",
      "Player 2('O') name: nik\n",
      "+-----------+\n",
      "| 1 | 2 | 3 |\n",
      "| 4 | 5 | 6 |\n",
      "| 7 | 8 | 9 |\n",
      "+-----------+\n",
      "Game will be started by Player 1\n",
      "Enter the position to mark!: 1\n",
      "+-----------+\n",
      "| X | 2 | 3 |\n",
      "| 4 | 5 | 6 |\n",
      "| 7 | 8 | 9 |\n",
      "+-----------+\n",
      "Enter the position to mark!: 5\n",
      "+-----------+\n",
      "| X | 2 | 3 |\n",
      "| 4 | O | 6 |\n",
      "| 7 | 8 | 9 |\n",
      "+-----------+\n",
      "Enter the position to mark!: 2\n",
      "+-----------+\n",
      "| X | X | 3 |\n",
      "| 4 | O | 6 |\n",
      "| 7 | 8 | 9 |\n",
      "+-----------+\n",
      "Enter the position to mark!: 3\n",
      "+-----------+\n",
      "| X | X | O |\n",
      "| 4 | O | 6 |\n",
      "| 7 | 8 | 9 |\n",
      "+-----------+\n",
      "Enter the position to mark!: 7\n",
      "+-----------+\n",
      "| X | X | O |\n",
      "| 4 | O | 6 |\n",
      "| X | 8 | 9 |\n",
      "+-----------+\n",
      "Enter the position to mark!: 9\n",
      "+-----------+\n",
      "| X | X | O |\n",
      "| 4 | O | 6 |\n",
      "| X | 8 | O |\n",
      "+-----------+\n",
      "Enter the position to mark!: 4\n",
      "+-----------+\n",
      "| X | X | O |\n",
      "| X | O | 6 |\n",
      "| X | 8 | O |\n",
      "+-----------+\n",
      "Game won by Player 1!!\n"
     ]
    }
   ],
   "source": [
    "print('Welcome to Tic Tac Toe!')\n",
    "one = input(\"Player 1('X') name: \")\n",
    "two = input(\"Player 2('O') name: \")\n",
    "test_board = [0,1,2,3,4,5,6,7,8,9]\n",
    "display_board(test_board)\n",
    "first = choose_first()\n",
    "while True:\n",
    "    if full_board_check(test_board):\n",
    "        break\n",
    "    if first == 1:\n",
    "        player_choice(test_board, 'X')\n",
    "        display_board(test_board)\n",
    "        if win_check(test_board, 'X'):\n",
    "            print(\"Game won by Player 1!!\")\n",
    "            break\n",
    "        player_choice(test_board, 'O')\n",
    "        display_board(test_board)\n",
    "        if win_check(test_board, 'O'):\n",
    "            print(\"Game won by Player 2!!\")\n",
    "            break\n",
    "    if first == 2:\n",
    "        player_choice(test_board, 'O')\n",
    "        display_board(test_board)\n",
    "        if win_check(test_board, 'O'):\n",
    "            print(\"Game won by Player 2!!\")\n",
    "            break\n",
    "        player_choice(test_board, 'X')\n",
    "        display_board(test_board)\n",
    "        if win_check(test_board, 'X'):\n",
    "            print(\"Game won by Player 1!!\")\n",
    "            break\n",
    "        \n",
    "    #pass\n",
    "\n",
    "    #while game_on:\n",
    "        #Player 1 Turn\n",
    "        \n",
    "        \n",
    "        # Player2's turn.\n",
    "            \n",
    "            #pass\n",
    "\n",
    "    #if not replay():\n",
    "        #break"
   ]
  },
  {
   "cell_type": "markdown",
   "metadata": {
    "collapsed": true
   },
   "source": [
    "## Good Job!"
   ]
  },
  {
   "cell_type": "code",
   "execution_count": null,
   "metadata": {},
   "outputs": [],
   "source": []
  }
 ],
 "metadata": {
  "kernelspec": {
   "display_name": "Python 3",
   "language": "python",
   "name": "python3"
  },
  "language_info": {
   "codemirror_mode": {
    "name": "ipython",
    "version": 3
   },
   "file_extension": ".py",
   "mimetype": "text/x-python",
   "name": "python",
   "nbconvert_exporter": "python",
   "pygments_lexer": "ipython3",
   "version": "3.7.4"
  }
 },
 "nbformat": 4,
 "nbformat_minor": 1
}
